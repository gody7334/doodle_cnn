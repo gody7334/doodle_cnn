{
 "cells": [
  {
   "cell_type": "code",
   "execution_count": 1,
   "metadata": {},
   "outputs": [],
   "source": [
    "# add parent folder as root folder\n",
    "import os, sys, inspect\n",
    "currentdir = os.path.dirname(os.path.abspath(inspect.getfile(inspect.currentframe())))\n",
    "parentdir = os.path.dirname(currentdir)\n",
    "sys.path.insert(0,parentdir)\n",
    "\n",
    "import os\n",
    "import pandas as pd\n",
    "import numpy as np\n",
    "from utils.mongodb_conn import *\n",
    "from utils.mongodb_conn import _connect_mongo\n",
    "from joblib import Parallel, delayed"
   ]
  },
  {
   "cell_type": "code",
   "execution_count": 2,
   "metadata": {},
   "outputs": [],
   "source": [
    "path_train = '../../data/train_simplified/'\n",
    "train_files = next(os.walk(path_train))[2]"
   ]
  },
  {
   "cell_type": "code",
   "execution_count": null,
   "metadata": {},
   "outputs": [
    {
     "name": "stdout",
     "output_type": "stream",
     "text": [
      "lipstick.csv\n"
     ]
    }
   ],
   "source": [
    "for tf in train_files:\n",
    "    print(tf)\n",
    "    df = pd.read_csv(f\"{path_train}{tf}\")\n",
    "    df_dict = df.to_dict('records')\n",
    "    \n",
    "    conn = _connect_mongo(host='localhost', port=27017, username=None, password=None, db='dataset')\n",
    "    conn.doodle_quickdraw.insert_many(df_dict)\n",
    "\n",
    "#     Parallel(n_jobs=8)(delayed(insert_data)(data, 'dataset', 'doodle_quickdraw', 'key_id') for data in df_dict)\n",
    "    \n",
    "#     for data in df_dict:\n",
    "#          insert_data(data, 'dataset', 'doodle_quickdraw', 'key_id')\n",
    "#     os.exit()"
   ]
  },
  {
   "cell_type": "code",
   "execution_count": 25,
   "metadata": {},
   "outputs": [
    {
     "data": {
      "text/plain": [
       "{'countrycode': 'AU',\n",
       " 'drawing': '[[[46, 52, 58, 66, 120, 172, 219, 250], [111, 65, 50, 43, 34, 30, 30, 34]], [[44, 25, 8, 3, 0, 7, 21, 43, 66, 124, 254, 238], [111, 109, 101, 94, 79, 61, 42, 25, 12, 3, 0, 29]]]',\n",
       " 'key_id': 5913869744603136,\n",
       " 'recognized': True,\n",
       " 'timestamp': '2017-03-19 10:30:08.013260',\n",
       " 'word': 'diving board'}"
      ]
     },
     "execution_count": 25,
     "metadata": {},
     "output_type": "execute_result"
    }
   ],
   "source": [
    "# df_dict[0]"
   ]
  }
 ],
 "metadata": {
  "kernelspec": {
   "display_name": "Python 3",
   "language": "python",
   "name": "python3"
  },
  "language_info": {
   "codemirror_mode": {
    "name": "ipython",
    "version": 3
   },
   "file_extension": ".py",
   "mimetype": "text/x-python",
   "name": "python",
   "nbconvert_exporter": "python",
   "pygments_lexer": "ipython3",
   "version": "3.6.5"
  }
 },
 "nbformat": 4,
 "nbformat_minor": 2
}
